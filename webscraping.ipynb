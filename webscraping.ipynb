{
 "cells": [
  {
   "cell_type": "markdown",
   "id": "448bb0e2",
   "metadata": {},
   "source": [
    "<html><center><h2 class=\"red-text\" style=\"color: red;\">Web Scraping</h2></center></html>"
   ]
  },
  {
   "cell_type": "code",
   "execution_count": 3,
   "id": "32995568",
   "metadata": {},
   "outputs": [
    {
     "name": "stdout",
     "output_type": "stream",
     "text": [
      "Requirement already satisfied: autoscraper in c:\\users\\pavan\\anaconda3\\lib\\site-packages (1.1.14)\n",
      "Requirement already satisfied: requests in c:\\users\\pavan\\anaconda3\\lib\\site-packages (from autoscraper) (2.31.0)\n",
      "Requirement already satisfied: bs4 in c:\\users\\pavan\\anaconda3\\lib\\site-packages (from autoscraper) (0.0.1)\n",
      "Requirement already satisfied: lxml in c:\\users\\pavan\\anaconda3\\lib\\site-packages (from autoscraper) (4.9.3)\n",
      "Requirement already satisfied: beautifulsoup4 in c:\\users\\pavan\\anaconda3\\lib\\site-packages (from bs4->autoscraper) (4.12.2)\n",
      "Requirement already satisfied: charset-normalizer<4,>=2 in c:\\users\\pavan\\anaconda3\\lib\\site-packages (from requests->autoscraper) (2.0.4)\n",
      "Requirement already satisfied: idna<4,>=2.5 in c:\\users\\pavan\\anaconda3\\lib\\site-packages (from requests->autoscraper) (3.4)\n",
      "Requirement already satisfied: urllib3<3,>=1.21.1 in c:\\users\\pavan\\anaconda3\\lib\\site-packages (from requests->autoscraper) (1.26.16)\n",
      "Requirement already satisfied: certifi>=2017.4.17 in c:\\users\\pavan\\anaconda3\\lib\\site-packages (from requests->autoscraper) (2023.7.22)\n",
      "Requirement already satisfied: soupsieve>1.2 in c:\\users\\pavan\\anaconda3\\lib\\site-packages (from beautifulsoup4->bs4->autoscraper) (2.4)\n"
     ]
    }
   ],
   "source": [
    "! pip install autoscraper\n"
   ]
  },
  {
   "cell_type": "code",
   "execution_count": 16,
   "id": "671a13a9",
   "metadata": {},
   "outputs": [],
   "source": [
    "from autoscraper import AutoScraper"
   ]
  },
  {
   "cell_type": "code",
   "execution_count": 52,
   "id": "6fd6e854",
   "metadata": {},
   "outputs": [],
   "source": [
    "amazon_url=\"https://www.amazon.in/s?k=iphone+12\"\n",
    "\n",
    "wanted_list=[\"₹51,999 \",\"Apple iPhone 13 (128GB) - Starlight\",\"4.5 out of 5 stars 20,410\"]"
   ]
  },
  {
   "cell_type": "code",
   "execution_count": 66,
   "id": "6f966122",
   "metadata": {},
   "outputs": [
    {
     "name": "stdout",
     "output_type": "stream",
     "text": [
      "['₹45,990', '₹51,999', '₹15,990', 'Apple iPhone 12 (64GB) - Purple', 'Apple iPhone 13 (128GB) - Starlight', \"Samsung Galaxy M14 5G (ICY Silver,6GB,128GB)|50MP Triple Cam|Segment's Only 6000 mAh 5G SP|5nm Processor|2 Gen. OS Upgrade & 4 Year Security Update|12GB RAM with RAM Plus|Android 13|Without Charger\", '4.5 out of 5 stars 32,292', '4.5 out of 5 stars 20,410', '4.0 out of 5 stars 12,134']\n"
     ]
    }
   ],
   "source": [
    "scraper=AutoScraper()\n",
    "result=scraper.build(amazon_url,wanted_list)\n",
    "print(result)"
   ]
  },
  {
   "cell_type": "code",
   "execution_count": 67,
   "id": "464028b7",
   "metadata": {},
   "outputs": [
    {
     "data": {
      "text/plain": [
       "{'rule_inks': ['₹45,990', '₹51,999', '₹15,990'],\n",
       " 'rule_fng3': ['₹45,990', '₹51,999', '₹15,990'],\n",
       " 'rule_lovr': ['Apple iPhone 12 (64GB) - Purple',\n",
       "  'Apple iPhone 13 (128GB) - Starlight',\n",
       "  \"Samsung Galaxy M14 5G (ICY Silver,6GB,128GB)|50MP Triple Cam|Segment's Only 6000 mAh 5G SP|5nm Processor|2 Gen. OS Upgrade & 4 Year Security Update|12GB RAM with RAM Plus|Android 13|Without Charger\"],\n",
       " 'rule_uvew': ['4.5 out of 5 stars 32,292',\n",
       "  '4.5 out of 5 stars 20,410',\n",
       "  '4.0 out of 5 stars 12,134']}"
      ]
     },
     "execution_count": 67,
     "metadata": {},
     "output_type": "execute_result"
    }
   ],
   "source": [
    "scraper.get_result_similar(amazon_url,grouped=True)"
   ]
  },
  {
   "cell_type": "code",
   "execution_count": 68,
   "id": "f85f370a",
   "metadata": {},
   "outputs": [],
   "source": [
    "scraper.set_rule_aliases({'rule_lovr':'Title','rule_uvew':'Rating'})\n",
    "scraper.keep_rules(['rule_lovr','rule_uvew'])\n",
    "scraper.save('amazon-search')"
   ]
  },
  {
   "cell_type": "code",
   "execution_count": 70,
   "id": "24fa14f8",
   "metadata": {},
   "outputs": [
    {
     "data": {
      "text/plain": [
       "['Galaxy M34 5G (Prism Silver,8GB,128GB)|120Hz sAMOLED Display|50MP Triple No Shake Cam|6000 mAh Battery|4 Gen OS Upgrade & 5 Year Security Update|16GB RAM with RAM+|Android 13|Without Charger',\n",
       " \"Galaxy M14 5G (ICY Silver,6GB,128GB)|50MP Triple Cam|Segment's Only 6000 mAh 5G SP|5nm Processor|2 Gen. OS Upgrade & 4 Year Security Update|12GB RAM with RAM Plus|Android 13|Without Charger\",\n",
       " 'A2 (Aqua Blue, 2GB RAM, 32GB Storage) | Powerful Octa Core G36 Processor | Upto 7GB RAM | Large 16.5 cm HD+ Display with Massive 5000mAh Battery | 2 Years Warranty [Limited time Offer]']"
      ]
     },
     "execution_count": 70,
     "metadata": {},
     "output_type": "execute_result"
    }
   ],
   "source": [
    "results=scraper.get_result_similar('https://www.amazon.in/s?k=samsung+phones',group_by_alias=True)\n",
    "results['Title']"
   ]
  },
  {
   "cell_type": "code",
   "execution_count": 71,
   "id": "9c87f716",
   "metadata": {},
   "outputs": [
    {
     "data": {
      "text/plain": [
       "['3.9 out of 5 stars 7,368  2K+ bought in past month',\n",
       " '4.0 out of 5 stars 12,134  5K+ bought in past month',\n",
       " '3.9 out of 5 stars 5,193  200+ bought in past month']"
      ]
     },
     "execution_count": 71,
     "metadata": {},
     "output_type": "execute_result"
    }
   ],
   "source": [
    "results['Rating']"
   ]
  }
 ],
 "metadata": {
  "kernelspec": {
   "display_name": "Python 3 (ipykernel)",
   "language": "python",
   "name": "python3"
  },
  "language_info": {
   "codemirror_mode": {
    "name": "ipython",
    "version": 3
   },
   "file_extension": ".py",
   "mimetype": "text/x-python",
   "name": "python",
   "nbconvert_exporter": "python",
   "pygments_lexer": "ipython3",
   "version": "3.11.5"
  }
 },
 "nbformat": 4,
 "nbformat_minor": 5
}
