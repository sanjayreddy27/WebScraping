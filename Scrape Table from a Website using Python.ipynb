{
 "cells": [
  {
   "cell_type": "markdown",
   "id": "74bd1353",
   "metadata": {},
   "source": [
    "<html><center><h2 class=\"red-text\" style=\"color: red;\">scrape a table</h2></center></html>"
   ]
  },
  {
   "cell_type": "code",
   "execution_count": 17,
   "id": "52a3e3e0",
   "metadata": {},
   "outputs": [
    {
     "name": "stdout",
     "output_type": "stream",
     "text": [
      "    Websites Popularity (unique visitors per month)[1]  \\\n",
      "0  Google[2]                                2800000000   \n",
      "1   Facebook                                1120000000   \n",
      "2    YouTube                                1100000000   \n",
      "3      Yahoo                                 750000000   \n",
      "4       Etsy       516,000,000 (Total, not unique)[14]   \n",
      "\n",
      "        Front-end (Client-side)  \\\n",
      "0        JavaScript, TypeScript   \n",
      "1  JavaScript, Typescript, Flow   \n",
      "2        JavaScript, TypeScript   \n",
      "3                    JavaScript   \n",
      "4                    JavaScript   \n",
      "\n",
      "                              Back-end (Server-side)  \\\n",
      "0                  C, C++, Go,[3] Java, Python, Node   \n",
      "1  Hack/HHVM, Python, C++, Java, Erlang, D,[6] Ha...   \n",
      "2                   Python, C, C++, Java,[10] Go[11]   \n",
      "3                                                PHP   \n",
      "4                                        PHP[15][16]   \n",
      "\n",
      "                                     Database  \\\n",
      "0                     Bigtable,[4] MariaDB[5]   \n",
      "1      MariaDB, MySQL,[8] HBase, Cassandra[9]   \n",
      "2            Vitess, BigTable, MariaDB[5][12]   \n",
      "3  PostgreSQL, HBase, Cassandra, MongoDB,[13]   \n",
      "4                            MySQL, Redis[17]   \n",
      "\n",
      "                                       Notes  \n",
      "0  The most used search engine in the world.  \n",
      "1   The most visited social networking site.  \n",
      "2       The most popular video sharing site.  \n",
      "3                                        NaN  \n",
      "4                        E-commerce website.  \n"
     ]
    }
   ],
   "source": [
    "import urllib.request\n",
    "import pandas as pd\n",
    "url = \"https://en.wikipedia.org/wiki/Programming_languages_used_in_most_popular_websites\"\n",
    "\n",
    "with urllib.request.urlopen(url) as i:\n",
    "    html = i.read()\n",
    "    \n",
    "data = pd.read_html(html)[0]\n",
    "print(data.head())"
   ]
  },
  {
   "cell_type": "code",
   "execution_count": null,
   "id": "f003b553",
   "metadata": {},
   "outputs": [],
   "source": []
  }
 ],
 "metadata": {
  "kernelspec": {
   "display_name": "Python 3 (ipykernel)",
   "language": "python",
   "name": "python3"
  },
  "language_info": {
   "codemirror_mode": {
    "name": "ipython",
    "version": 3
   },
   "file_extension": ".py",
   "mimetype": "text/x-python",
   "name": "python",
   "nbconvert_exporter": "python",
   "pygments_lexer": "ipython3",
   "version": "3.11.5"
  }
 },
 "nbformat": 4,
 "nbformat_minor": 5
}
